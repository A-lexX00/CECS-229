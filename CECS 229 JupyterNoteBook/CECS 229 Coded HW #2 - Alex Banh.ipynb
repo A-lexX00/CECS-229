{
 "cells": [
  {
   "cell_type": "markdown",
   "metadata": {},
   "source": [
    "# CECS 229 Coded HW #2\n",
    "\n",
    "#### Due Date: Thursday 3/12 @ 11:59 PM\n",
    "\n",
    "#### Submission Instructions:\n",
    "\n",
    "Attach your coded solution to the programming tasks below. When you are finished...\n",
    "\n",
    "1. Rename this file so that your actual name replaces \"YOUR NAME\" in the current notebook name, and submit it to the dropbox by **Thursday 3/12 @ 11:59 PM**. For example, I would submit to the dropbox a file called  `CECS 229 Coded HW#2 - KATHERINE VARELA.ipynb`\n",
    "2. Submit your code only to CodePost as `hw2.py` by **Thursday 3/12 @ 11:59 PM**\n",
    "\n",
    "### Programming Tasks\n",
    "\n"
   ]
  },
  {
   "cell_type": "markdown",
   "metadata": {},
   "source": [
    "#### Problem 1: \n",
    "Create a function `modinv(a,m)` that returns the inverse of `a` modulo `m`.  If the gcd of `a` and `m` is not 1, then you must `raise` a `ValueError` exception with message `\"The given values are not relatively prime\"`.  You can NOT use any built-in functions as part of your implementation, but you may import and use any functions you implemented for either Coded HW \\#1 or Lab Assignment \\#3."
   ]
  },
  {
   "cell_type": "code",
   "execution_count": 15,
   "metadata": {},
   "outputs": [],
   "source": [
    "def modinv(a,m):\n",
    "    \"\"\"returns the inverse of a modulo m\n",
    "    INPUT: a - integer\n",
    "           m - positive integer\n",
    "    OUTPUT: a inverse as an integer\n",
    "    \"\"\"\n",
    "    if (gcd(a,m) != 1):\n",
    "        raise ValueError(\"The given values are not relatively prime\")\n",
    "    else:\n",
    "        x = 1\n",
    "        while x in range (1,m):\n",
    "            if ((a * x) % m) == 1:\n",
    "                return x\n",
    "            x+=1\n",
    "    return 1"
   ]
  },
  {
   "cell_type": "markdown",
   "metadata": {},
   "source": [
    "#### Problem 2: \n",
    "Create a function `affineEncrypt(text, a,b)` that returns the cipher text encrypted using key  (`a`, `b`).  You must verify that the gcd(a, 26) = 1 before making the encryption.  If this is not the case, the function must throw an `raise` a `ValueError` exception with message `\"The given key is invalid. The gcd(a,26) must be 1.\"`.  You can NOT use any built-in functions as part of your implementation, but you may import and use any functions you implemented for either Coded HW \\#1 or Lab Assignment \\#3.  You may also use the utility functions at the end of this notebook."
   ]
  },
  {
   "cell_type": "code",
   "execution_count": 16,
   "metadata": {},
   "outputs": [],
   "source": [
    "def affineEncrypt(text, a, b):\n",
    "    \"\"\"encrypts the plaintext 'text', using an affine transformation key (a, b)\n",
    "    INPUT:  text - plaintext as a string of letters\n",
    "            a - integer satisfying gcd(a, 26) = 1.  Raises error if such is not the case\n",
    "            b - integer \n",
    "            \n",
    "    OUTPUT: The encrypted message as a string of characters\n",
    "    \"\"\"\n",
    "    if (gcd(a,b) != 1):\n",
    "        raise ValueError(\"The given values are not relatively prime\")\n",
    "    if (a > b):\n",
    "        raise ValueError(\"The given values are not relatively prime\")\n",
    "    else:\n",
    "        coded = letters2digits(text)\n",
    "        start = 0\n",
    "        letters = \"\"\n",
    "        for i in range(0, len(coded), 2):\n",
    "            digit = coded[start : start + 2]              # accessing the double digit\n",
    "            newNum = ((a * int(digit) + b) % 26)\n",
    "            strNewNum = \"\"\n",
    "            if (int(newNum) < 10):\n",
    "                    strNewNum = \"0\" + str(newNum)\n",
    "            else:\n",
    "                strNewNum = str(newNum)\n",
    "            letters += strNewNum                        # concatenating to the string of letters\n",
    "            start += 2                                    # updating the starting index for next digit\n",
    "    fullEncode = digits2letters(letters)\n",
    "    return fullEncode\n",
    "    "
   ]
  },
  {
   "cell_type": "markdown",
   "metadata": {},
   "source": [
    "#### Problem 3: \n",
    "Create a function `affineDecrypt(ciphertext, a,b)` that returns the cipher text encrypted using key  (`a`, `b`). You must verify that the gcd(a, 26) = 1.  If this is not the case, the function must `raise` a `ValueError` exception with message `\"The given key is invalid. The gcd(a,26) must be 1.\"`.  You can NOT use any built-in functions as part of your implementation, but you may import and use any functions you implemented for either Coded HW \\#1 or Lab Assignment \\#3.  You may also use the utility functions at the end of this notebook. "
   ]
  },
  {
   "cell_type": "code",
   "execution_count": 17,
   "metadata": {},
   "outputs": [],
   "source": [
    "def affineDecrypt(ciphertext, a, b):\n",
    "    \"\"\"decrypts the string 'ciphertext', which was encrypted using an affine transformation key (a, b)\n",
    "    INPUT:  ciphertext - a string of encrypted letters\n",
    "            a - integer satisfying gcd(a, 26) = 1.  \n",
    "            b - integer \n",
    "            \n",
    "    OUTPUT: The decrypted message as a string of characters\n",
    "    \"\"\"\n",
    "    coded = letters2digits(ciphertext)\n",
    "    start = 0\n",
    "    letters = \"\"\n",
    "    for i in range(0, len(coded), 2):\n",
    "        digit = coded[start : start + 2]\n",
    "        decodeA = modinv(a, 26)\n",
    "        newNum = ((decodeA * (int(digit) - b)) % 26)\n",
    "        strNewNum = \"\"\n",
    "        if (int(newNum) < 10):\n",
    "            strNewNum = \"0\" + str(newNum)\n",
    "        else:\n",
    "            strNewNum = str(newNum)\n",
    "        letters += strNewNum\n",
    "        start += 2\n",
    "    fullEncode = digits2letters(letters)\n",
    "    return fullEncode\n",
    "\n",
    "    "
   ]
  },
  {
   "cell_type": "markdown",
   "metadata": {},
   "source": [
    "#### Problem 4:\n",
    "\n",
    "Implement the function `encryptRSA(m, p, q, e)` which encrypts a string `m` using RSA key `(n = p * q, e)`.  You can NOT use any built-in functions as part of your implementation, but you may import and use any functions you implemented for either Coded HW \\#1 or Lab Assignment \\#3.  You may also use the utility functions at the end of this notebook to aid you in your implementation. "
   ]
  },
  {
   "cell_type": "code",
   "execution_count": 18,
   "metadata": {},
   "outputs": [],
   "source": [
    "def encryptRSA(m, p, q, e):\n",
    "    \"\"\"encrypts the plaintext m, using RSA and the key (p * q, e)\n",
    "    INPUT:  m - plaintext as a string of letters\n",
    "            p, q - prime numbers used as part of the key n = p * q to encrypt the ciphertext\n",
    "            e - integer satisfying gcd((p-1)*(q-1), e) = 1\n",
    "            \n",
    "    OUTPUT: The encrypted message as a string of digits\n",
    "    \"\"\"\n",
    "    if (gcd((p - 1) * (q - 1), e ) != 1) :\n",
    "        raise ValueError(\"The given values are not relatively prime\")\n",
    "    else :\n",
    "        coded = letters2digits(m)\n",
    "        start = 0\n",
    "        letters = \"\"\n",
    "        n = p * q\n",
    "        l = blocksize(n)\n",
    "        for i in range(0, len(coded), l):\n",
    "            digit = coded[start : start + l]\n",
    "            encryptingLetter = str(modExp(int(digit), e, n))\n",
    "            if(len(encryptingLetter) < l):\n",
    "                encryptingLetter = \"0\" + encryptingLetter\n",
    "            letters += encryptingLetter\n",
    "            start += l\n",
    "    return letters"
   ]
  },
  {
   "cell_type": "code",
   "execution_count": 9,
   "metadata": {},
   "outputs": [
    {
     "ename": "NameError",
     "evalue": "name 'letters2digits' is not defined",
     "output_type": "error",
     "traceback": [
      "\u001b[1;31m---------------------------------------------------------------------------\u001b[0m",
      "\u001b[1;31mNameError\u001b[0m                                 Traceback (most recent call last)",
      "\u001b[1;32m<ipython-input-9-3b22db5031fb>\u001b[0m in \u001b[0;36m<module>\u001b[1;34m\u001b[0m\n\u001b[0;32m      1\u001b[0m \u001b[1;34m\"\"\"--------------------- ENCRYPTION TESTER CELL ---------------------------\"\"\"\u001b[0m\u001b[1;33m\u001b[0m\u001b[1;33m\u001b[0m\u001b[0m\n\u001b[1;32m----> 2\u001b[1;33m \u001b[0mencrypted1\u001b[0m \u001b[1;33m=\u001b[0m \u001b[0mencryptRSA\u001b[0m\u001b[1;33m(\u001b[0m\u001b[1;34m\"STOP\"\u001b[0m\u001b[1;33m,\u001b[0m \u001b[1;36m43\u001b[0m\u001b[1;33m,\u001b[0m \u001b[1;36m59\u001b[0m\u001b[1;33m,\u001b[0m \u001b[1;36m13\u001b[0m\u001b[1;33m)\u001b[0m\u001b[1;33m\u001b[0m\u001b[1;33m\u001b[0m\u001b[0m\n\u001b[0m\u001b[0;32m      3\u001b[0m \u001b[0mencrypted2\u001b[0m \u001b[1;33m=\u001b[0m \u001b[0mencryptRSA\u001b[0m\u001b[1;33m(\u001b[0m\u001b[1;34m\"HELP\"\u001b[0m\u001b[1;33m,\u001b[0m \u001b[1;36m43\u001b[0m\u001b[1;33m,\u001b[0m \u001b[1;36m59\u001b[0m\u001b[1;33m,\u001b[0m \u001b[1;36m13\u001b[0m\u001b[1;33m)\u001b[0m\u001b[1;33m\u001b[0m\u001b[1;33m\u001b[0m\u001b[0m\n\u001b[0;32m      4\u001b[0m \u001b[0mencrypted3\u001b[0m \u001b[1;33m=\u001b[0m \u001b[0mencryptRSA\u001b[0m\u001b[1;33m(\u001b[0m\u001b[1;34m\"STOPS\"\u001b[0m\u001b[1;33m,\u001b[0m \u001b[1;36m43\u001b[0m\u001b[1;33m,\u001b[0m \u001b[1;36m59\u001b[0m\u001b[1;33m,\u001b[0m \u001b[1;36m13\u001b[0m\u001b[1;33m)\u001b[0m\u001b[1;33m\u001b[0m\u001b[1;33m\u001b[0m\u001b[0m\n\u001b[0;32m      5\u001b[0m \u001b[0mprint\u001b[0m\u001b[1;33m(\u001b[0m\u001b[1;34m\"Encrypted Message:\"\u001b[0m\u001b[1;33m,\u001b[0m \u001b[0mencrypted1\u001b[0m\u001b[1;33m)\u001b[0m\u001b[1;33m\u001b[0m\u001b[1;33m\u001b[0m\u001b[0m\n",
      "\u001b[1;32m<ipython-input-8-bf77b1c08721>\u001b[0m in \u001b[0;36mencryptRSA\u001b[1;34m(m, p, q, e)\u001b[0m\n\u001b[0;32m     10\u001b[0m         \u001b[1;32mraise\u001b[0m \u001b[0mValueError\u001b[0m\u001b[1;33m(\u001b[0m\u001b[1;34m\"The given values are not relatively prime\"\u001b[0m\u001b[1;33m)\u001b[0m\u001b[1;33m\u001b[0m\u001b[1;33m\u001b[0m\u001b[0m\n\u001b[0;32m     11\u001b[0m     \u001b[1;32melse\u001b[0m \u001b[1;33m:\u001b[0m\u001b[1;33m\u001b[0m\u001b[1;33m\u001b[0m\u001b[0m\n\u001b[1;32m---> 12\u001b[1;33m         \u001b[0mcoded\u001b[0m \u001b[1;33m=\u001b[0m \u001b[0mletters2digits\u001b[0m\u001b[1;33m(\u001b[0m\u001b[0mm\u001b[0m\u001b[1;33m)\u001b[0m\u001b[1;33m\u001b[0m\u001b[1;33m\u001b[0m\u001b[0m\n\u001b[0m\u001b[0;32m     13\u001b[0m         \u001b[0mstart\u001b[0m \u001b[1;33m=\u001b[0m \u001b[1;36m0\u001b[0m\u001b[1;33m\u001b[0m\u001b[1;33m\u001b[0m\u001b[0m\n\u001b[0;32m     14\u001b[0m         \u001b[0mletters\u001b[0m \u001b[1;33m=\u001b[0m \u001b[1;34m\"\"\u001b[0m\u001b[1;33m\u001b[0m\u001b[1;33m\u001b[0m\u001b[0m\n",
      "\u001b[1;31mNameError\u001b[0m: name 'letters2digits' is not defined"
     ]
    }
   ],
   "source": [
    "\"\"\"--------------------- ENCRYPTION TESTER CELL ---------------------------\"\"\"\n",
    "encrypted1 = encryptRSA(\"STOP\", 43, 59, 13)\n",
    "encrypted2 = encryptRSA(\"HELP\", 43, 59, 13)\n",
    "encrypted3 = encryptRSA(\"STOPS\", 43, 59, 13)\n",
    "print(\"Encrypted Message:\", encrypted1)\n",
    "print(\"Expected: 2081 2182\")\n",
    "print(\"Encrypted Message:\", encrypted2)\n",
    "print(\"Expected: 0981 0461\")\n",
    "print(\"Encrypted Message:\", encrypted3)\n",
    "print(\"Expected: 2081 2182 1346\")\n",
    "\n",
    "\n",
    "\"\"\"--------------------- TEST 2 ---------------------------\"\"\"\n",
    "encrypted = encryptRSA(\"UPLOAD\", 53, 61, 17)\n",
    "print(\"Encrypted Message:\", encrypted)\n",
    "print(\"Expected: 2545 2757 1211\")"
   ]
  },
  {
   "cell_type": "markdown",
   "metadata": {},
   "source": [
    "#### Problem 5:\n",
    "\n",
    "Complete the implementation of the function `decryptRSA(c, p, q, m)` which depends on `modinv(a,m)` and the given functions `RSAdigits2letters(d)` and `blockSize(n)`.  When you are done, you can test your function against the given samples."
   ]
  },
  {
   "cell_type": "code",
   "execution_count": 10,
   "metadata": {},
   "outputs": [],
   "source": [
    "def decryptRSA(c, p, q, e):\n",
    "    \"\"\"decrypts the cipher c, which was encrypted using the key (p * q, e)\n",
    "    INPUT:  c - ciphertext as a string of digits\n",
    "            p, q - prime numbers used as part of the key n = p * q to encrypt the ciphertext\n",
    "            e - integer satisfying gcd((p-1)*(q-1), e) = 1\n",
    "            \n",
    "    OUTPUT: The decrypted message as a string of letters\n",
    "    \"\"\"\n",
    "    if (gcd((p - 1) * (q - 1), e ) != 1) :\n",
    "        raise ValueError(\"The given values are not relatively prime\")\n",
    "    else :\n",
    "        start = 0\n",
    "        letters = \"\"\n",
    "        n = p * q\n",
    "        new_n = (p - 1) * (q - 1)\n",
    "        inverse_n = modinv(e, new_n)\n",
    "        l = blocksize(n)\n",
    "        coded = \"\".join(c.split())\n",
    "        for i in range(0, len(coded), l):\n",
    "            digit = coded[start : start + l]\n",
    "            encryptingLetter = str(modExp(int(digit), inverse_n, n))\n",
    "            if(len(encryptingLetter) < l):\n",
    "                encryptingLetter = \"0\" + encryptingLetter\n",
    "            letters += str(encryptingLetter)\n",
    "            start += l\n",
    "    fullDecode = digits2letters(letters)\n",
    "    return fullDecode"
   ]
  },
  {
   "cell_type": "code",
   "execution_count": 11,
   "metadata": {},
   "outputs": [
    {
     "ename": "NameError",
     "evalue": "name 'modinv' is not defined",
     "output_type": "error",
     "traceback": [
      "\u001b[1;31m---------------------------------------------------------------------------\u001b[0m",
      "\u001b[1;31mNameError\u001b[0m                                 Traceback (most recent call last)",
      "\u001b[1;32m<ipython-input-11-fc3fa02110b5>\u001b[0m in \u001b[0;36m<module>\u001b[1;34m\u001b[0m\n\u001b[0;32m      1\u001b[0m \u001b[1;34m\"\"\"--------------------- TESTER CELL ---------------------------\"\"\"\u001b[0m\u001b[1;33m\u001b[0m\u001b[1;33m\u001b[0m\u001b[0m\n\u001b[1;32m----> 2\u001b[1;33m \u001b[0mdecrypted1\u001b[0m \u001b[1;33m=\u001b[0m \u001b[0mdecryptRSA\u001b[0m\u001b[1;33m(\u001b[0m\u001b[1;34m\"2081 2182\"\u001b[0m\u001b[1;33m,\u001b[0m \u001b[1;36m43\u001b[0m\u001b[1;33m,\u001b[0m \u001b[1;36m59\u001b[0m\u001b[1;33m,\u001b[0m \u001b[1;36m13\u001b[0m\u001b[1;33m)\u001b[0m\u001b[1;33m\u001b[0m\u001b[1;33m\u001b[0m\u001b[0m\n\u001b[0m\u001b[0;32m      3\u001b[0m \u001b[0mdecrypted2\u001b[0m \u001b[1;33m=\u001b[0m \u001b[0mdecryptRSA\u001b[0m\u001b[1;33m(\u001b[0m\u001b[1;34m\"0981 0461\"\u001b[0m\u001b[1;33m,\u001b[0m \u001b[1;36m43\u001b[0m\u001b[1;33m,\u001b[0m \u001b[1;36m59\u001b[0m\u001b[1;33m,\u001b[0m \u001b[1;36m13\u001b[0m\u001b[1;33m)\u001b[0m\u001b[1;33m\u001b[0m\u001b[1;33m\u001b[0m\u001b[0m\n\u001b[0;32m      4\u001b[0m \u001b[0mdecrypted3\u001b[0m \u001b[1;33m=\u001b[0m \u001b[0mdecryptRSA\u001b[0m\u001b[1;33m(\u001b[0m\u001b[1;34m\"2081 2182 1346\"\u001b[0m\u001b[1;33m,\u001b[0m \u001b[1;36m43\u001b[0m\u001b[1;33m,\u001b[0m \u001b[1;36m59\u001b[0m\u001b[1;33m,\u001b[0m \u001b[1;36m13\u001b[0m\u001b[1;33m)\u001b[0m\u001b[1;33m\u001b[0m\u001b[1;33m\u001b[0m\u001b[0m\n\u001b[0;32m      5\u001b[0m \u001b[0mprint\u001b[0m\u001b[1;33m(\u001b[0m\u001b[1;34m\"Decrypted Message:\"\u001b[0m\u001b[1;33m,\u001b[0m \u001b[0mdecrypted1\u001b[0m\u001b[1;33m)\u001b[0m\u001b[1;33m\u001b[0m\u001b[1;33m\u001b[0m\u001b[0m\n",
      "\u001b[1;32m<ipython-input-10-bf07def1e5b1>\u001b[0m in \u001b[0;36mdecryptRSA\u001b[1;34m(c, p, q, e)\u001b[0m\n\u001b[0;32m     14\u001b[0m         \u001b[0mn\u001b[0m \u001b[1;33m=\u001b[0m \u001b[0mp\u001b[0m \u001b[1;33m*\u001b[0m \u001b[0mq\u001b[0m\u001b[1;33m\u001b[0m\u001b[1;33m\u001b[0m\u001b[0m\n\u001b[0;32m     15\u001b[0m         \u001b[0mnew_n\u001b[0m \u001b[1;33m=\u001b[0m \u001b[1;33m(\u001b[0m\u001b[0mp\u001b[0m \u001b[1;33m-\u001b[0m \u001b[1;36m1\u001b[0m\u001b[1;33m)\u001b[0m \u001b[1;33m*\u001b[0m \u001b[1;33m(\u001b[0m\u001b[0mq\u001b[0m \u001b[1;33m-\u001b[0m \u001b[1;36m1\u001b[0m\u001b[1;33m)\u001b[0m\u001b[1;33m\u001b[0m\u001b[1;33m\u001b[0m\u001b[0m\n\u001b[1;32m---> 16\u001b[1;33m         \u001b[0minverse_n\u001b[0m \u001b[1;33m=\u001b[0m \u001b[0mmodinv\u001b[0m\u001b[1;33m(\u001b[0m\u001b[0me\u001b[0m\u001b[1;33m,\u001b[0m \u001b[0mnew_n\u001b[0m\u001b[1;33m)\u001b[0m\u001b[1;33m\u001b[0m\u001b[1;33m\u001b[0m\u001b[0m\n\u001b[0m\u001b[0;32m     17\u001b[0m         \u001b[0ml\u001b[0m \u001b[1;33m=\u001b[0m \u001b[0mblocksize\u001b[0m\u001b[1;33m(\u001b[0m\u001b[0mn\u001b[0m\u001b[1;33m)\u001b[0m\u001b[1;33m\u001b[0m\u001b[1;33m\u001b[0m\u001b[0m\n\u001b[0;32m     18\u001b[0m         \u001b[0mcoded\u001b[0m \u001b[1;33m=\u001b[0m \u001b[1;34m\"\"\u001b[0m\u001b[1;33m.\u001b[0m\u001b[0mjoin\u001b[0m\u001b[1;33m(\u001b[0m\u001b[0mc\u001b[0m\u001b[1;33m.\u001b[0m\u001b[0msplit\u001b[0m\u001b[1;33m(\u001b[0m\u001b[1;33m)\u001b[0m\u001b[1;33m)\u001b[0m\u001b[1;33m\u001b[0m\u001b[1;33m\u001b[0m\u001b[0m\n",
      "\u001b[1;31mNameError\u001b[0m: name 'modinv' is not defined"
     ]
    }
   ],
   "source": [
    "\"\"\"--------------------- TESTER CELL ---------------------------\"\"\"\n",
    "decrypted1 = decryptRSA(\"2081 2182\", 43, 59, 13)\n",
    "decrypted2 = decryptRSA(\"0981 0461\", 43, 59, 13)\n",
    "decrypted3 = decryptRSA(\"2081 2182 1346\", 43, 59, 13)\n",
    "print(\"Decrypted Message:\", decrypted1)\n",
    "print(\"Expected: STOP\")\n",
    "print(\"Decrypted Message:\", decrypted2)\n",
    "print(\"Expected: HELP\")\n",
    "print(\"Decrypted Message:\", decrypted3)\n",
    "print(\"Expected: STOPSX\")\n",
    "\n",
    "\"\"\"--------------------- TEST 2---------------------------\"\"\"\n",
    "decrypted = decryptRSA(\"0667 1947 0671\", 43, 59, 13)\n",
    "print(\"Decrypted Message:\", decrypted)\n",
    "print(\"Expected: SILVER\")"
   ]
  },
  {
   "cell_type": "markdown",
   "metadata": {},
   "source": [
    "##### Utility functions (NO EDITS NECESSARY)"
   ]
  },
  {
   "cell_type": "code",
   "execution_count": 12,
   "metadata": {},
   "outputs": [],
   "source": [
    "def digits2letters(digits):\n",
    "    \"\"\"converts a string of double digits without spaces in the range 00-25 to a string of letters A-Z\"\"\"\n",
    "    letter2digit = {\"A\" : \"00\", \"B\" : \"01\", \"C\" : \"02\", \"D\" : \"03\", \"E\" : \"04\", \n",
    "                  \"F\" : \"05\", \"G\" : \"06\", \"H\" : \"07\", \"I\" : \"08\", \"J\" : \"09\",\n",
    "                  \"K\" : \"10\", \"L\" : \"11\", \"M\" : \"12\", \"N\" : \"13\", \"O\" : \"14\",  \n",
    "                  \"P\" : \"15\", \"Q\" : \"16\", \"R\" : \"17\", \"S\" : \"18\", \"T\" : \"19\",\n",
    "                  \"U\" : \"20\", \"V\" : \"21\", \"W\" : \"22\", \"X\" : \"23\", \"Y\" : \"24\", \n",
    "                  \"Z\" : \"25\"}\n",
    "        \n",
    "    digit2letter = dict((v,k) for k,v in letter2digit.items())  #creating a dictionary with keys and values exchanged\n",
    "        \n",
    "    letters = \"\"\n",
    "    start = 0  #initializing starting index of first digit\n",
    "    for i in range(0, len(digits), 2):\n",
    "        digit = digits[start : start + 2]  # accessing the double digit\n",
    "        letters += digit2letter[digit]     # concatenating to the string of letters\n",
    "        start += 2                         # updating the starting index for next digit\n",
    "    \n",
    "    return letters"
   ]
  },
  {
   "cell_type": "code",
   "execution_count": 13,
   "metadata": {},
   "outputs": [],
   "source": [
    "def letters2digits(letters):\n",
    "    \"\"\"converts a string of letters A-Z to a string of double digits without spaces in the range 00-25\"\"\"\n",
    "    letter2digit = {\"A\" : \"00\", \"B\" : \"01\", \"C\" : \"02\", \"D\" : \"03\", \"E\" : \"04\", \n",
    "                  \"F\" : \"05\", \"G\" : \"06\", \"H\" : \"07\", \"I\" : \"08\", \"J\" : \"09\",\n",
    "                  \"K\" : \"10\", \"L\" : \"11\", \"M\" : \"12\", \"N\" : \"13\", \"O\" : \"14\",  \n",
    "                  \"P\" : \"15\", \"Q\" : \"16\", \"R\" : \"17\", \"S\" : \"18\", \"T\" : \"19\",\n",
    "                  \"U\" : \"20\", \"V\" : \"21\", \"W\" : \"22\", \"X\" : \"23\", \"Y\" : \"24\", \n",
    "                  \"Z\" : \"25\"}\n",
    "        \n",
    "    digits = \"\"  #initializing digits string\n",
    "    letters = \"\".join(letters.split()) #removing whitespaces in the text\n",
    "\n",
    "    \n",
    "    for i in range(0, len(letters)):\n",
    "        if(letters[i].isalpha()):\n",
    "            letter = letters[i].upper()  #converting to uppercase\n",
    "            digit = letter2digit[letter]\n",
    "            digits += digit     # concatenating to the string of digits\n",
    "    \n",
    "    return digits"
   ]
  },
  {
   "cell_type": "code",
   "execution_count": 14,
   "metadata": {},
   "outputs": [],
   "source": [
    "def blocksize(n):\n",
    "    \"\"\"returns the size of a block in an RSA encrypted string\"\"\"\n",
    "    twofive = \"25\"\n",
    "    while int(twofive) < n:\n",
    "        twofive += \"25\"\n",
    "    return len(twofive) - 2"
   ]
  },
  {
   "cell_type": "code",
   "execution_count": null,
   "metadata": {},
   "outputs": [],
   "source": []
  },
  {
   "cell_type": "code",
   "execution_count": null,
   "metadata": {},
   "outputs": [],
   "source": []
  }
 ],
 "metadata": {
  "kernelspec": {
   "display_name": "Python 3",
   "language": "python",
   "name": "python3"
  },
  "language_info": {
   "codemirror_mode": {
    "name": "ipython",
    "version": 3
   },
   "file_extension": ".py",
   "mimetype": "text/x-python",
   "name": "python",
   "nbconvert_exporter": "python",
   "pygments_lexer": "ipython3",
   "version": "3.7.4"
  }
 },
 "nbformat": 4,
 "nbformat_minor": 2
}
