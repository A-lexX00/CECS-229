{
 "cells": [
  {
   "cell_type": "markdown",
   "metadata": {},
   "source": [
    "# CECS 229: Coded HW #1\n",
    "\n",
    "### Submission Instructions:\n",
    "\n",
    "Attach your coded solution to the programming tasks below. When you are finished...\n",
    "\n",
    "1. Rename this file so that your actual name replaces \"YOUR NAME\" in the current notebook name, and submit it to the dropbox by **Thursday 2/13 @ 11 AM**. For example, I would submit to the dropbox a file called  `CECS 229 Coded HW#1 - KATHERINE VARELA.ipynb`\n",
    "2. Submit your code only to CodePost as `hw1.py` by **Thursday 2/13 @ 11 AM**\n",
    "\n"
   ]
  },
  {
   "cell_type": "markdown",
   "metadata": {},
   "source": [
    "Submit the following Python functions in one Jupyter Notebook after demoing your work.\n",
    "\n",
    "\n",
    "#### Problem 1:\n",
    "\n",
    "Program a function `modExp(b, n, m)` that computes $$b^n \\mod m$$ using the algorithm discussed in lecture.  The function should satisfy the following:\n",
    "\n",
    "1. INPUT: \n",
    "    * `b` - positive integer representing the base\n",
    "    * `n` - positive integer representing the exponent\n",
    "    * `m` - positive integer representing the modulo\n",
    "\n",
    "    \n",
    "2. OUTPUT:\n",
    "    * the computation of $b^n \\mod m$\n",
    "\n",
    " \n",
    "EXAMPLE: \n",
    "\n",
    "`>> modExp( 3 , 644, 645 )`\n",
    "\n",
    "`36`\n",
    "\n"
   ]
  },
  {
   "cell_type": "code",
   "execution_count": null,
   "metadata": {
    "collapsed": true
   },
   "outputs": [],
   "source": [
    "def modExp(b, n, m):\n",
    "    #FIXME: IMPLEMENT THIS METHOD"
   ]
  },
  {
   "cell_type": "markdown",
   "metadata": {},
   "source": [
    "#### Problem 2:\n",
    "\n",
    "Create a function `bezoutCoeffs(a, b)` that computes the Bezout coefficients `s` and `t` of `a` and `b`.\n",
    "\n",
    "1. INPUT: \n",
    "    * `a`,`b` - integers\n",
    "\n",
    "2. OUTPUT: `(s, t)` - tuple of coefficients\n",
    "\n",
    "EXAMPLE:  \n",
    " \n",
    "`>> bezoutCoeffs(414, 662)` \n",
    "\n",
    "`(8, -5)`\n",
    "\n"
   ]
  },
  {
   "cell_type": "code",
   "execution_count": null,
   "metadata": {
    "collapsed": true
   },
   "outputs": [],
   "source": [
    "def bezoutCoeffs(a, b):\n",
    "    #FIXME: IMPLEMENT THIS METHOD."
   ]
  },
  {
   "cell_type": "markdown",
   "metadata": {},
   "source": [
    "#### Problem 3:\n",
    "\n",
    "Create a function `gcd(a, b)` that computes the greatest common divisor of `a` and `b`\n",
    "\n",
    "1. INPUT: \n",
    "    * `a`,`b` - integers\n",
    "\n",
    "2. OUTPUT: `d` - the gcd\n",
    "\n",
    "EXAMPLE:  \n",
    " \n",
    "`>> gcd(414, 662)` \n",
    "\n",
    "`2`"
   ]
  },
  {
   "cell_type": "code",
   "execution_count": 6,
   "metadata": {},
   "outputs": [],
   "source": [
    "def gcd(a,b):\n",
    "    #FIXME: IMPLEMENT THIS METHOD\n",
    "    if (b != 0):\n",
    "        return gcd(b, a%b)\n",
    "    else:\n",
    "        return a;"
   ]
  },
  {
   "cell_type": "code",
   "execution_count": 5,
   "metadata": {},
   "outputs": [
    {
     "ename": "NameError",
     "evalue": "name 'modExp' is not defined",
     "output_type": "error",
     "traceback": [
      "\u001b[1;31m---------------------------------------------------------------------------\u001b[0m",
      "\u001b[1;31mNameError\u001b[0m                                 Traceback (most recent call last)",
      "\u001b[1;32m<ipython-input-5-710f40232b8f>\u001b[0m in \u001b[0;36m<module>\u001b[1;34m\u001b[0m\n\u001b[0;32m      1\u001b[0m \u001b[1;34m\"\"\" TESTER CELL \"\"\"\u001b[0m\u001b[1;33m\u001b[0m\u001b[1;33m\u001b[0m\u001b[0m\n\u001b[1;32m----> 2\u001b[1;33m \u001b[0mprint\u001b[0m\u001b[1;33m(\u001b[0m\u001b[1;34m\"Testing modExp(23, 1002, 41) = \"\u001b[0m\u001b[1;33m,\u001b[0m \u001b[0mmodExp\u001b[0m\u001b[1;33m(\u001b[0m\u001b[1;36m23\u001b[0m\u001b[1;33m,\u001b[0m \u001b[1;36m1002\u001b[0m\u001b[1;33m,\u001b[0m \u001b[1;36m41\u001b[0m\u001b[1;33m)\u001b[0m\u001b[1;33m)\u001b[0m\u001b[1;33m\u001b[0m\u001b[1;33m\u001b[0m\u001b[0m\n\u001b[0m\u001b[0;32m      3\u001b[0m \u001b[0mprint\u001b[0m\u001b[1;33m(\u001b[0m\u001b[1;34m\"Testing bezoutCoeffs(26, 7) = \"\u001b[0m\u001b[1;33m,\u001b[0m \u001b[0mbezoutCoeffs\u001b[0m\u001b[1;33m(\u001b[0m\u001b[1;36m26\u001b[0m\u001b[1;33m,\u001b[0m \u001b[1;36m7\u001b[0m\u001b[1;33m)\u001b[0m\u001b[1;33m)\u001b[0m\u001b[1;33m\u001b[0m\u001b[1;33m\u001b[0m\u001b[0m\n\u001b[0;32m      4\u001b[0m \u001b[0mprint\u001b[0m\u001b[1;33m(\u001b[0m\u001b[1;34m\"Testing gcd(101, 4620) = \"\u001b[0m\u001b[1;33m,\u001b[0m \u001b[0mgcd\u001b[0m\u001b[1;33m(\u001b[0m\u001b[1;36m101\u001b[0m\u001b[1;33m,\u001b[0m \u001b[1;36m4620\u001b[0m\u001b[1;33m)\u001b[0m\u001b[1;33m)\u001b[0m\u001b[1;33m\u001b[0m\u001b[1;33m\u001b[0m\u001b[0m\n\u001b[0;32m      5\u001b[0m \u001b[0mprint\u001b[0m\u001b[1;33m(\u001b[0m\u001b[1;34m\"Testing gcd(2349, 36) = \"\u001b[0m\u001b[1;33m,\u001b[0m \u001b[0mgcd\u001b[0m\u001b[1;33m(\u001b[0m\u001b[1;36m2349\u001b[0m\u001b[1;33m,\u001b[0m \u001b[1;36m36\u001b[0m\u001b[1;33m)\u001b[0m\u001b[1;33m)\u001b[0m\u001b[1;33m\u001b[0m\u001b[1;33m\u001b[0m\u001b[0m\n",
      "\u001b[1;31mNameError\u001b[0m: name 'modExp' is not defined"
     ]
    }
   ],
   "source": [
    "\"\"\" TESTER CELL \"\"\"\n",
    "print(\"Testing modExp(23, 1002, 41) = \", modExp(23, 1002, 41))\n",
    "print(\"Testing bezoutCoeffs(26, 7) = \", bezoutCoeffs(26, 7))\n",
    "print(\"Testing gcd(101, 4620) = \", gcd(101, 4620))\n",
    "print(\"Testing gcd(2349, 36) = \", gcd(2349, 36))"
   ]
  },
  {
   "cell_type": "code",
   "execution_count": null,
   "metadata": {},
   "outputs": [],
   "source": []
  }
 ],
 "metadata": {
  "kernelspec": {
   "display_name": "Python 3",
   "language": "python",
   "name": "python3"
  },
  "language_info": {
   "codemirror_mode": {
    "name": "ipython",
    "version": 3
   },
   "file_extension": ".py",
   "mimetype": "text/x-python",
   "name": "python",
   "nbconvert_exporter": "python",
   "pygments_lexer": "ipython3",
   "version": "3.7.4"
  }
 },
 "nbformat": 4,
 "nbformat_minor": 2
}
