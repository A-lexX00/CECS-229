{
 "cells": [
  {
   "cell_type": "markdown",
   "metadata": {},
   "source": [
    "# CECS 229: Coded HW #1\n",
    "\n",
    "### Submission Instructions:\n",
    "\n",
    "Attach your coded solution to the programming tasks below. When you are finished...\n",
    "\n",
    "1. Rename this file so that your actual name replaces \"YOUR NAME\" in the current notebook name, and submit it to the dropbox by **Thursday 2/13 @ 11 AM**. For example, I would submit to the dropbox a file called  `CECS 229 Coded HW#1 - KATHERINE VARELA.ipynb`\n",
    "2. Submit your code only to CodePost as `hw1.py` by **Thursday 2/13 @ 11 AM**\n",
    "\n"
   ]
  },
  {
   "cell_type": "markdown",
   "metadata": {},
   "source": [
    "Submit the following Python functions in one Jupyter Notebook after demoing your work.\n",
    "\n",
    "\n",
    "#### Problem 1:\n",
    "\n",
    "Program a function `modExp(b, n, m)` that computes $$b^n \\mod m$$ using the algorithm discussed in lecture.  The function should satisfy the following:\n",
    "\n",
    "1. INPUT: \n",
    "    * `b` - positive integer representing the base\n",
    "    * `n` - positive integer representing the exponent\n",
    "    * `m` - positive integer representing the modulo\n",
    "\n",
    "    \n",
    "2. OUTPUT:\n",
    "    * the computation of $b^n \\mod m$\n",
    "\n",
    " \n",
    "EXAMPLE: \n",
    "\n",
    "`>> modExp( 3 , 644, 645 )`\n",
    "\n",
    "`36`\n",
    "\n"
   ]
  },
  {
   "cell_type": "code",
   "execution_count": 29,
   "metadata": {},
   "outputs": [],
   "source": [
    "def modExp(b, n, m):\n",
    "    #FIXME: IMPLEMENT THIS METHOD\n",
    "    if (m == 1):\n",
    "        return 0\n",
    "    c = 1\n",
    "    prime = 0\n",
    "    for prime in range(0, n):\n",
    "        c = (c * b) % m\n",
    "    return c"
   ]
  },
  {
   "cell_type": "markdown",
   "metadata": {},
   "source": [
    "#### Problem 2:\n",
    "\n",
    "Create a function `bezoutCoeffs(a, b)` that computes the Bezout coefficients `s` and `t` of `a` and `b`.\n",
    "\n",
    "1. INPUT: \n",
    "    * `a`,`b` - integers\n",
    "\n",
    "2. OUTPUT: `(s, t)` - tuple of coefficients\n",
    "\n",
    "EXAMPLE:  \n",
    " \n",
    "`>> bezoutCoeffs(414, 662)` \n",
    "\n",
    "`(8, -5)`\n",
    "\n"
   ]
  },
  {
   "cell_type": "code",
   "execution_count": 33,
   "metadata": {},
   "outputs": [],
   "source": [
    "def bezoutCoeffs(a, b):\n",
    "    #FIXME: IMPLEMENT THIS METHOD.\n",
    "    s0, s1, t0, t1, = 0, 1, 1, 0\n",
    "    while a != 0:\n",
    "        q = b // a\n",
    "        a, b = b % a, a\n",
    "        s0, s1 = s1, s0 - (q * s1)\n",
    "        t0, t1 = t1, t0 - (q * t1)\n",
    "    return (s0, t0)\n",
    "\n",
    "    # I was trying out the numbers you had given us\n",
    "    # in the algorithm from the hint but I could not\n",
    "    # get it to work with those numbers so I found a\n",
    "    # different solution set online on the website\n",
    "    # https://en.wikibooks.org/wiki/Algorithm_Implementation/Mathematics/Extended_Euclidean_algorithm\n",
    "    # I tried hard to get it to work but I only got it\n",
    "    # to work with these sets of numbers\n",
    "    \"\"\"s0, s1, t0, t1, = 1, -1 * (b // a), 0, 1\n",
    "    while a != 0:\n",
    "        q = b // a\n",
    "        a, b = b % a, a\n",
    "        s0, s1 = s1, s0 - (q * s1)\n",
    "        t0, t1 = t1, t0 - (q * t1)\n",
    "    return (s1, t1)\"\"\""
   ]
  },
  {
   "cell_type": "markdown",
   "metadata": {},
   "source": [
    "#### Problem 3:\n",
    "\n",
    "Create a function `gcd(a, b)` that computes the greatest common divisor of `a` and `b`\n",
    "\n",
    "1. INPUT: \n",
    "    * `a`,`b` - integers\n",
    "\n",
    "2. OUTPUT: `d` - the gcd\n",
    "\n",
    "EXAMPLE:  \n",
    " \n",
    "`>> gcd(414, 662)` \n",
    "\n",
    "`2`"
   ]
  },
  {
   "cell_type": "code",
   "execution_count": 34,
   "metadata": {},
   "outputs": [],
   "source": [
    "def gcd(a,b):\n",
    "    #FIXME: IMPLEMENT THIS METHOD\n",
    "    if (b != 0):\n",
    "        return gcd(b, a%b)\n",
    "    else:\n",
    "        return a;"
   ]
  },
  {
   "cell_type": "code",
   "execution_count": 35,
   "metadata": {},
   "outputs": [
    {
     "name": "stdout",
     "output_type": "stream",
     "text": [
      "Testing modExp(23, 1002, 41) =  37\n",
      "Testing bezoutCoeffs(26, 7) =  (3, -11)\n",
      "Testing gcd(101, 4620) =  1\n",
      "Testing gcd(2349, 36) =  9\n"
     ]
    }
   ],
   "source": [
    "\"\"\" TESTER CELL \"\"\"\n",
    "print(\"Testing modExp(23, 1002, 41) = \", modExp(23, 1002, 41))\n",
    "print(\"Testing bezoutCoeffs(26, 7) = \", bezoutCoeffs(26, 7))\n",
    "print(\"Testing gcd(101, 4620) = \", gcd(101, 4620))\n",
    "print(\"Testing gcd(2349, 36) = \", gcd(2349, 36))"
   ]
  },
  {
   "cell_type": "code",
   "execution_count": null,
   "metadata": {},
   "outputs": [],
   "source": []
  },
  {
   "cell_type": "code",
   "execution_count": null,
   "metadata": {},
   "outputs": [],
   "source": []
  }
 ],
 "metadata": {
  "kernelspec": {
   "display_name": "Python 3",
   "language": "python",
   "name": "python3"
  },
  "language_info": {
   "codemirror_mode": {
    "name": "ipython",
    "version": 3
   },
   "file_extension": ".py",
   "mimetype": "text/x-python",
   "name": "python",
   "nbconvert_exporter": "python",
   "pygments_lexer": "ipython3",
   "version": "3.7.4"
  }
 },
 "nbformat": 4,
 "nbformat_minor": 2
}
