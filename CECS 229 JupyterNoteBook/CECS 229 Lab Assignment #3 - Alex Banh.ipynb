{
 "cells": [
  {
   "cell_type": "markdown",
   "metadata": {},
   "source": [
    "# CECS 229 Lab Assignment #2\n",
    "\n",
    "### Submission Instructions:\n",
    "\n",
    "Complete the task below. When you are finished, you must complete the following to receive a grade:\n",
    "\n",
    "1. Submit this notebook to the Dropbox by **Tuesday 2/4 @ 11:00 AM**.  Rename this file so that your actual name replaces \"YOUR NAME\". For example, I would submit to the dropbox a file called `CECS 229 Lab Assignment #2 - KATHERINE VARELA.ipynb`.\n",
    "\n",
    "2. Save your code ONLY to a .py file called `lab2.py`, and submit it on CodePost.\n"
   ]
  },
  {
   "cell_type": "markdown",
   "metadata": {},
   "source": [
    "#### Directions: Complete the function so that `binaryAdd(a, b)` returns the sum of two binary numbers `a` and `b`."
   ]
  },
  {
   "cell_type": "code",
   "execution_count": 2,
   "metadata": {},
   "outputs": [],
   "source": [
    "# -*- coding: utf-8 -*-\n",
    "\"\"\"\n",
    "Spyder Editor\n",
    "\n",
    "This is a temporary script file.\n",
    "\"\"\"\n",
    "\n",
    "def binaryAdd(a, b): #this is the beginning of a Python Function\n",
    "    \n",
    "    \"\"\" This is the function's docstring\n",
    "    returns the sum of two binary numbers a and b\n",
    "    INPUT: a,b - string representation of the binary numbers\n",
    "    OUPUT: string representation of their sum\n",
    "    \"\"\"\n",
    "    a = a.replace(\" \", \"\") #removing all whitespaces in string a\n",
    "    #FIXME: REMOVE ALL WHITESPACES IN STRING b (DONE)\n",
    "    b = b.replace(\" \", \"\") #removing all whitespaces in string b\n",
    "    \n",
    "    m = len(a) #number of digits in string a\n",
    "    n = len(b) #number of digits in string b\n",
    "    \n",
    "    if m < n: #if string a is shorter than string b\n",
    "        num_missing_zeros = n - m\n",
    "        a = num_missing_zeros*\"0\" + a #appending 0's to the beginning of string a, to make it the same length as b\n",
    "    \n",
    "    #FIXME: IF STRING b IS SHORTER THAN STRING a, APPEND 0's TO THE BEGINNING OF STRING b TO MAKE LENGTHS EQUAL\n",
    "    if n < m:\n",
    "        num_missing_zeros = m - n\n",
    "        b = num_missing_zeros*\"0\" + b #appending 0's to the beginning of string b, to make it the same length as a\n",
    "    \n",
    "    #FIXME: FINISH THE FUNCTION SO THAT IT RETURNS THE DESIRED OUTPUT \n",
    "    \n",
    "    maxLen = len(a)\n",
    "    result = ''\n",
    "    carry = 0\n",
    "    i = 1\n",
    "    for i in range(maxLen - 1, -1, -1): \n",
    "        if carry == 0:\n",
    "            if a[i] == '0':\n",
    "                if b[i] == '0':\n",
    "                    result = '0' + result\n",
    "                elif b[i] == '1':\n",
    "                    result = '1' + result\n",
    "            elif a[i] == '1':\n",
    "                if b[i] == '0':\n",
    "                    result = '1' + result\n",
    "                elif b[i] == '1':\n",
    "                    result = '0' + result\n",
    "                    carry = 1\n",
    "        elif carry == 1:\n",
    "            if a[i] == '0':\n",
    "                if b[i] == '0':\n",
    "                    result = '1' + result\n",
    "                    carry = 0\n",
    "                elif b[i] == '1':\n",
    "                    result = '0' + result\n",
    "            elif a[i] == '1':\n",
    "                if b[i] == '0':\n",
    "                    result = '0' + result\n",
    "                elif b[i] == '1':\n",
    "                    result = '1' + result\n",
    "        i = i + 1\n",
    "        \n",
    "    if carry == 1:\n",
    "        result = '1' + result\n",
    "    \n",
    "    return result"
   ]
  },
  {
   "cell_type": "code",
   "execution_count": null,
   "metadata": {},
   "outputs": [],
   "source": []
  },
  {
   "cell_type": "code",
   "execution_count": 6,
   "metadata": {},
   "outputs": [
    {
     "data": {
      "text/plain": [
       "'11111111110'"
      ]
     },
     "execution_count": 6,
     "metadata": {},
     "output_type": "execute_result"
    }
   ],
   "source": [
    "binaryAdd(\"1111111111\", \"1111111111\")"
   ]
  },
  {
   "cell_type": "code",
   "execution_count": null,
   "metadata": {},
   "outputs": [],
   "source": []
  }
 ],
 "metadata": {
  "kernelspec": {
   "display_name": "Python 3",
   "language": "python",
   "name": "python3"
  },
  "language_info": {
   "codemirror_mode": {
    "name": "ipython",
    "version": 3
   },
   "file_extension": ".py",
   "mimetype": "text/x-python",
   "name": "python",
   "nbconvert_exporter": "python",
   "pygments_lexer": "ipython3",
   "version": "3.7.4"
  }
 },
 "nbformat": 4,
 "nbformat_minor": 2
}
